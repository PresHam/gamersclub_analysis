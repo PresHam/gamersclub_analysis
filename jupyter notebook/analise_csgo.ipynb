{
  "nbformat": 4,
  "nbformat_minor": 0,
  "metadata": {
    "colab": {
      "name": "analise_csgo.ipynb",
      "provenance": []
    },
    "kernelspec": {
      "name": "python3",
      "display_name": "Python 3"
    }
  },
  "cells": [
    {
      "cell_type": "code",
      "metadata": {
        "id": "FSxW5Z5QrxaO",
        "colab_type": "code",
        "colab": {}
      },
      "source": [
        "import pandas as pd\n",
        "import datetime as dt"
      ],
      "execution_count": 0,
      "outputs": []
    },
    {
      "cell_type": "code",
      "metadata": {
        "id": "YFHag7ehsCFY",
        "colab_type": "code",
        "colab": {}
      },
      "source": [
        "mm_stats = pd.read_csv('matchmaking_stats_summary.csv', parse_dates=['created_at'])\n",
        "p_monthly_stats = pd.read_csv('player_monthly_stats.csv')\n",
        "players = pd.read_csv('players.csv')"
      ],
      "execution_count": 0,
      "outputs": []
    },
    {
      "cell_type": "code",
      "metadata": {
        "id": "Szo-GXy_tEiD",
        "colab_type": "code",
        "colab": {
          "base_uri": "https://localhost:8080/",
          "height": 70
        },
        "outputId": "7ba795ce-53f1-4015-ffb5-64cc2a8f60c0"
      },
      "source": [
        "'''\n",
        "Com está função podemos verificar a atividadedos players após determinada data,\n",
        "muito útil para analisar a frequência de gameplay do pessoal após eventos ou\n",
        "em periódos especificos.\n",
        "\n",
        "Levei em consideração que o \"Após\" acontece no dia seguinte, portanto usei o \n",
        "operador > no filtro, mas poderiamos considerar => dependendo do que queriamos\n",
        "analisar, pois o dataset só tem partidas registradas até o dia 06/02/2020\n",
        "''' \n",
        "\n",
        "def checando_atividades_jogadores(date):\n",
        "  filter = mm_stats['created_at'] > date\n",
        "\n",
        "  inativos = 0\n",
        "  ativos = 0\n",
        "\n",
        "  for x in range(len(players)):\n",
        "    if players['player_id'][x] in mm_stats[filter]['player_id'].values:\n",
        "      ativos += 1\n",
        "    else:\n",
        "      inativos += 1\n",
        "\n",
        "  return print(f'Após a data {date} registramos:\\n\\\n",
        "  {inativos} jogadores inativos,\\n\\\n",
        "  {ativos} jogadores ativos')\n",
        "\n",
        "date = '2020-02-07' # Date no formato yyyy-mm-dd\n",
        "checando_atividades_jogadores(date)"
      ],
      "execution_count": 89,
      "outputs": [
        {
          "output_type": "stream",
          "text": [
            "Após a data 2020-02-07 registramos:\n",
            "  3645 jogadores inativos,\n",
            "  0 jogadores ativos\n"
          ],
          "name": "stdout"
        }
      ]
    },
    {
      "cell_type": "markdown",
      "metadata": {
        "id": "FF1ivh9H5U-z",
        "colab_type": "text"
      },
      "source": [
        "Está função traz as informações solicitadas no itens 1 e 2 do aquecimento!"
      ]
    },
    {
      "cell_type": "code",
      "metadata": {
        "id": "f6oD2IlmtI5L",
        "colab_type": "code",
        "colab": {}
      },
      "source": [
        ""
      ],
      "execution_count": 0,
      "outputs": []
    },
    {
      "cell_type": "code",
      "metadata": {
        "id": "mYh9K3M-1WbU",
        "colab_type": "code",
        "colab": {
          "base_uri": "https://localhost:8080/",
          "height": 299
        },
        "outputId": "a34355de-b21c-4fa6-aaa7-0f8f69036e81"
      },
      "source": [
        "dia = mm_stats['created_at'].dt.day\n",
        "dia.name = 'dia'\n",
        "\n",
        "mm_stats = pd.concat(\n",
        "    (mm_stats, dia),\n",
        "    axis=1\n",
        ")\n",
        "\n",
        "mm_stats.head()\n"
      ],
      "execution_count": 86,
      "outputs": [
        {
          "output_type": "execute_result",
          "data": {
            "text/html": [
              "<div>\n",
              "<style scoped>\n",
              "    .dataframe tbody tr th:only-of-type {\n",
              "        vertical-align: middle;\n",
              "    }\n",
              "\n",
              "    .dataframe tbody tr th {\n",
              "        vertical-align: top;\n",
              "    }\n",
              "\n",
              "    .dataframe thead th {\n",
              "        text-align: right;\n",
              "    }\n",
              "</style>\n",
              "<table border=\"1\" class=\"dataframe\">\n",
              "  <thead>\n",
              "    <tr style=\"text-align: right;\">\n",
              "      <th></th>\n",
              "      <th>id</th>\n",
              "      <th>player_id</th>\n",
              "      <th>matches_played</th>\n",
              "      <th>total_wins</th>\n",
              "      <th>total_loss</th>\n",
              "      <th>mm_points</th>\n",
              "      <th>assist</th>\n",
              "      <th>death</th>\n",
              "      <th>hs</th>\n",
              "      <th>kills</th>\n",
              "      <th>is_mm</th>\n",
              "      <th>created_at</th>\n",
              "      <th>updated_at</th>\n",
              "      <th>dia</th>\n",
              "      <th>dia</th>\n",
              "    </tr>\n",
              "  </thead>\n",
              "  <tbody>\n",
              "    <tr>\n",
              "      <th>0</th>\n",
              "      <td>NaN</td>\n",
              "      <td>354985</td>\n",
              "      <td>1</td>\n",
              "      <td>1</td>\n",
              "      <td>0</td>\n",
              "      <td>3</td>\n",
              "      <td>5</td>\n",
              "      <td>13</td>\n",
              "      <td>6</td>\n",
              "      <td>13</td>\n",
              "      <td>0</td>\n",
              "      <td>2020-02-01 00:47:32</td>\n",
              "      <td>2020-02-01 00:47:32</td>\n",
              "      <td>1</td>\n",
              "      <td>1</td>\n",
              "    </tr>\n",
              "    <tr>\n",
              "      <th>1</th>\n",
              "      <td>NaN</td>\n",
              "      <td>152268</td>\n",
              "      <td>1</td>\n",
              "      <td>0</td>\n",
              "      <td>1</td>\n",
              "      <td>-1</td>\n",
              "      <td>3</td>\n",
              "      <td>20</td>\n",
              "      <td>2</td>\n",
              "      <td>15</td>\n",
              "      <td>0</td>\n",
              "      <td>2020-02-01 00:54:01</td>\n",
              "      <td>2020-02-01 00:54:01</td>\n",
              "      <td>1</td>\n",
              "      <td>1</td>\n",
              "    </tr>\n",
              "    <tr>\n",
              "      <th>2</th>\n",
              "      <td>NaN</td>\n",
              "      <td>679247</td>\n",
              "      <td>1</td>\n",
              "      <td>0</td>\n",
              "      <td>1</td>\n",
              "      <td>-1</td>\n",
              "      <td>5</td>\n",
              "      <td>23</td>\n",
              "      <td>4</td>\n",
              "      <td>7</td>\n",
              "      <td>0</td>\n",
              "      <td>2020-02-01 01:00:31</td>\n",
              "      <td>2020-02-01 01:00:31</td>\n",
              "      <td>1</td>\n",
              "      <td>1</td>\n",
              "    </tr>\n",
              "    <tr>\n",
              "      <th>3</th>\n",
              "      <td>NaN</td>\n",
              "      <td>604607</td>\n",
              "      <td>1</td>\n",
              "      <td>0</td>\n",
              "      <td>1</td>\n",
              "      <td>-1</td>\n",
              "      <td>3</td>\n",
              "      <td>21</td>\n",
              "      <td>8</td>\n",
              "      <td>11</td>\n",
              "      <td>0</td>\n",
              "      <td>2020-02-01 01:03:02</td>\n",
              "      <td>2020-02-01 01:03:02</td>\n",
              "      <td>1</td>\n",
              "      <td>1</td>\n",
              "    </tr>\n",
              "    <tr>\n",
              "      <th>4</th>\n",
              "      <td>NaN</td>\n",
              "      <td>325203</td>\n",
              "      <td>1</td>\n",
              "      <td>1</td>\n",
              "      <td>0</td>\n",
              "      <td>3</td>\n",
              "      <td>2</td>\n",
              "      <td>13</td>\n",
              "      <td>11</td>\n",
              "      <td>21</td>\n",
              "      <td>0</td>\n",
              "      <td>2020-02-01 01:04:02</td>\n",
              "      <td>2020-02-01 01:04:02</td>\n",
              "      <td>1</td>\n",
              "      <td>1</td>\n",
              "    </tr>\n",
              "  </tbody>\n",
              "</table>\n",
              "</div>"
            ],
            "text/plain": [
              "   id  player_id  matches_played  ...           updated_at  dia  dia\n",
              "0 NaN     354985               1  ...  2020-02-01 00:47:32    1    1\n",
              "1 NaN     152268               1  ...  2020-02-01 00:54:01    1    1\n",
              "2 NaN     679247               1  ...  2020-02-01 01:00:31    1    1\n",
              "3 NaN     604607               1  ...  2020-02-01 01:03:02    1    1\n",
              "4 NaN     325203               1  ...  2020-02-01 01:04:02    1    1\n",
              "\n",
              "[5 rows x 15 columns]"
            ]
          },
          "metadata": {
            "tags": []
          },
          "execution_count": 86
        }
      ]
    },
    {
      "cell_type": "code",
      "metadata": {
        "id": "J7zRQ3rQ3jDv",
        "colab_type": "code",
        "colab": {
          "base_uri": "https://localhost:8080/",
          "height": 140
        },
        "outputId": "20177dbe-6962-4e53-ffbd-9d8065fc398e"
      },
      "source": [
        "mm_february['dia'].value_counts()"
      ],
      "execution_count": 87,
      "outputs": [
        {
          "output_type": "execute_result",
          "data": {
            "text/plain": [
              "2    411\n",
              "5    341\n",
              "6    332\n",
              "4    331\n",
              "1    328\n",
              "3    314\n",
              "Name: dia, dtype: int64"
            ]
          },
          "metadata": {
            "tags": []
          },
          "execution_count": 87
        }
      ]
    },
    {
      "cell_type": "markdown",
      "metadata": {
        "id": "LYvDBWBR5P-d",
        "colab_type": "text"
      },
      "source": [
        "No item três do aquecimento, verifiquei que o dia 03/02/2020, foi o dia com menos jogadores ativos."
      ]
    },
    {
      "cell_type": "code",
      "metadata": {
        "id": "OlLtdg3Y5Eq-",
        "colab_type": "code",
        "colab": {}
      },
      "source": [
        ""
      ],
      "execution_count": 0,
      "outputs": []
    }
  ]
}